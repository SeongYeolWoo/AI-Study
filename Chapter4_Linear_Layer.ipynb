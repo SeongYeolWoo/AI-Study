{
 "cells": [
  {
   "cell_type": "code",
   "execution_count": 17,
   "id": "d73d4a49-703d-4df2-ba99-6f1ff9a8e9d4",
   "metadata": {},
   "outputs": [],
   "source": [
    "import torch\n",
    "import torch.nn as nn"
   ]
  },
  {
   "cell_type": "code",
   "execution_count": 2,
   "id": "405488b0-c3a2-4f64-802f-f22d273f3f7f",
   "metadata": {},
   "outputs": [],
   "source": [
    "x = torch.FloatTensor([[1,2],\n",
    "                       [3,4],\n",
    "                       [5,6]])\n",
    "\n",
    "y = torch.FloatTensor([[1,2],\n",
    "                       [1,2]])"
   ]
  },
  {
   "cell_type": "code",
   "execution_count": 3,
   "id": "dc34b8a4-e768-4d42-842c-4fb09f80729e",
   "metadata": {},
   "outputs": [
    {
     "name": "stdout",
     "output_type": "stream",
     "text": [
      "torch.Size([3, 2]) torch.Size([2, 2])\n"
     ]
    }
   ],
   "source": [
    "print(x.size(), y.size())"
   ]
  },
  {
   "cell_type": "code",
   "execution_count": 4,
   "id": "e553606d-0db2-48ed-bd9e-35183aec1a7c",
   "metadata": {},
   "outputs": [
    {
     "name": "stdout",
     "output_type": "stream",
     "text": [
      "torch.Size([3, 2])\n"
     ]
    }
   ],
   "source": [
    "z = torch.matmul(x, y)\n",
    "print(z.size())"
   ]
  },
  {
   "cell_type": "code",
   "execution_count": 6,
   "id": "5e97b911-1cb3-47f1-b799-91f985f0db14",
   "metadata": {},
   "outputs": [
    {
     "name": "stdout",
     "output_type": "stream",
     "text": [
      "tensor([[ 3.,  6.],\n",
      "        [ 7., 14.],\n",
      "        [11., 22.]])\n"
     ]
    }
   ],
   "source": [
    "print(z)"
   ]
  },
  {
   "cell_type": "code",
   "execution_count": 7,
   "id": "fd6d49c4-bd2b-4e66-ab67-9df2846be81f",
   "metadata": {},
   "outputs": [],
   "source": [
    "x = torch.FloatTensor(3,3,2)\n",
    "y = torch.FloatTensor(3,2,3)"
   ]
  },
  {
   "cell_type": "code",
   "execution_count": 9,
   "id": "6ca3b09a-7fa1-48a9-bd87-dd265e31e143",
   "metadata": {},
   "outputs": [
    {
     "name": "stdout",
     "output_type": "stream",
     "text": [
      "tensor([[[0., 0., 0.],\n",
      "         [0., 0., 0.],\n",
      "         [0., 0., 0.]],\n",
      "\n",
      "        [[0., 0., 0.],\n",
      "         [0., 0., 0.],\n",
      "         [0., 0., 0.]],\n",
      "\n",
      "        [[0., 0., 0.],\n",
      "         [0., 0., 0.],\n",
      "         [0., 0., 0.]]])\n",
      "torch.Size([3, 3, 3])\n"
     ]
    }
   ],
   "source": [
    "z = torch.bmm(x, y)\n",
    "print(z)\n",
    "print(z.size())"
   ]
  },
  {
   "cell_type": "code",
   "execution_count": 14,
   "id": "cdc71499-4aa4-444e-80ec-338c7ead65d4",
   "metadata": {},
   "outputs": [],
   "source": [
    "W = torch.FloatTensor([[1,2],\n",
    "                       [3,4],\n",
    "                       [5,6]])\n",
    "b = torch.FloatTensor([2,2])"
   ]
  },
  {
   "cell_type": "code",
   "execution_count": 11,
   "id": "a0ba9b67-04c3-4c58-94c5-4b53271013e3",
   "metadata": {},
   "outputs": [],
   "source": [
    "def linear(x, W, b):\n",
    "    y = torch.matmul(x, W) + b\n",
    "\n",
    "    return y"
   ]
  },
  {
   "cell_type": "code",
   "execution_count": 12,
   "id": "a07acafd-9ead-4c30-8e92-2a6080adfe81",
   "metadata": {},
   "outputs": [],
   "source": [
    "x = torch.FloatTensor(4,3)"
   ]
  },
  {
   "cell_type": "code",
   "execution_count": 15,
   "id": "42498cf7-63ff-4105-919d-4f129a64251f",
   "metadata": {},
   "outputs": [],
   "source": [
    "y = linear(x, W, b)"
   ]
  },
  {
   "cell_type": "code",
   "execution_count": 16,
   "id": "2f262c03-8858-4904-92c9-1d79bef5609e",
   "metadata": {},
   "outputs": [
    {
     "name": "stdout",
     "output_type": "stream",
     "text": [
      "torch.Size([4, 2])\n"
     ]
    }
   ],
   "source": [
    "print(y.size())"
   ]
  },
  {
   "cell_type": "code",
   "execution_count": 20,
   "id": "d11ee863-d884-4e14-b211-5e4dc241eac9",
   "metadata": {},
   "outputs": [],
   "source": [
    "class MyLinear(nn.Module):\n",
    "    def __init__(self, input_dim=3, output_dim=2):\n",
    "        self.input_dim = 3\n",
    "        self.output_dim = 2\n",
    "\n",
    "        super().__init__()\n",
    "        # 학습 불가능\n",
    "        self.W = torch.FloatTensor(input_dim, output_dim)\n",
    "        self.b = torch.FloatTensor(output_dim)\n",
    "    def forward(self, x):\n",
    "        y = torch.matmul(x, self.W) + self.b\n",
    "\n",
    "        return y"
   ]
  },
  {
   "cell_type": "code",
   "execution_count": 21,
   "id": "0fec07dd-3b02-43e6-a4b0-c919535e261f",
   "metadata": {},
   "outputs": [
    {
     "name": "stdout",
     "output_type": "stream",
     "text": [
      "tensor([[0., 0.],\n",
      "        [0., 0.],\n",
      "        [0., 0.],\n",
      "        [0., 0.]])\n"
     ]
    }
   ],
   "source": [
    "linear = MyLinear(3,2)\n",
    "\n",
    "y = linear(x)\n",
    "print(y)"
   ]
  },
  {
   "cell_type": "code",
   "execution_count": 22,
   "id": "2d229995-9cad-4130-a911-8db9d0221d12",
   "metadata": {},
   "outputs": [],
   "source": [
    "for p in linear.parameters():\n",
    "    print(p)"
   ]
  },
  {
   "cell_type": "code",
   "execution_count": 23,
   "id": "7fe18968-afe5-4d56-85e1-ec0067cca20f",
   "metadata": {},
   "outputs": [],
   "source": [
    "class MyLinear(nn.Module):\n",
    "    def __init__(self, input_dim=3, output_dim=2):\n",
    "        self.input_dim = 3\n",
    "        self.output_dim = 2\n",
    "\n",
    "        super().__init__()\n",
    "        # 학습 가능\n",
    "        self.W = nn.Parameter(torch.FloatTensor(input_dim, output_dim))\n",
    "        self.b = nn.Parameter(torch.FloatTensor(output_dim))\n",
    "    def forward(self, x):\n",
    "        y = torch.matmul(x, self.W) + self.b\n",
    "\n",
    "        return y"
   ]
  },
  {
   "cell_type": "code",
   "execution_count": 25,
   "id": "1f46af41-ad1e-40d1-b7dd-7e67b33c5e00",
   "metadata": {},
   "outputs": [
    {
     "name": "stdout",
     "output_type": "stream",
     "text": [
      "Parameter containing:\n",
      "tensor([[0., 0.],\n",
      "        [0., 0.],\n",
      "        [0., 0.]], requires_grad=True)\n",
      "Parameter containing:\n",
      "tensor([0., 0.], requires_grad=True)\n"
     ]
    }
   ],
   "source": [
    "linear = MyLinear(3,2)\n",
    "\n",
    "for p in linear.parameters():\n",
    "    print(p)"
   ]
  },
  {
   "cell_type": "code",
   "execution_count": 26,
   "id": "0df589aa-777f-4621-8f53-4328dfd191ae",
   "metadata": {},
   "outputs": [],
   "source": [
    "linear = nn.Linear(3,2)\n",
    "\n",
    "y = linear(x)"
   ]
  },
  {
   "cell_type": "code",
   "execution_count": 27,
   "id": "54b62ed4-0479-49f4-aaad-a551e1110f6a",
   "metadata": {},
   "outputs": [
    {
     "name": "stdout",
     "output_type": "stream",
     "text": [
      "Parameter containing:\n",
      "tensor([[ 0.5060,  0.0921,  0.2821],\n",
      "        [ 0.0285, -0.3802,  0.0577]], requires_grad=True)\n",
      "Parameter containing:\n",
      "tensor([0.3787, 0.4032], requires_grad=True)\n"
     ]
    }
   ],
   "source": [
    "for p in linear.parameters():\n",
    "    print(p)"
   ]
  },
  {
   "cell_type": "code",
   "execution_count": 32,
   "id": "cfbc1e87-6bd9-437d-88b1-701664d4ceba",
   "metadata": {},
   "outputs": [],
   "source": [
    "class MyLinear(nn.Module):\n",
    "    def __init__(self, input_dim=3, output_dim=2):\n",
    "        self.input_dim = 3\n",
    "        self.output_dim = 2\n",
    "\n",
    "        super().__init__()\n",
    "        # 학습 가능\n",
    "        self.linear = nn.Linear(input_dim, output_dim)\n",
    "    def forward(self, x):\n",
    "        y = self.linear(x)\n",
    "\n",
    "        return y"
   ]
  },
  {
   "cell_type": "code",
   "execution_count": 33,
   "id": "e8360808-cb5d-46ac-bcf9-2de1e1cef72b",
   "metadata": {},
   "outputs": [
    {
     "name": "stdout",
     "output_type": "stream",
     "text": [
      "tensor([[ 0.0374, -0.1273],\n",
      "        [ 0.0374, -0.1273],\n",
      "        [ 0.0374, -0.1273],\n",
      "        [ 0.0374, -0.1273]], grad_fn=<AddmmBackward0>)\n"
     ]
    }
   ],
   "source": [
    "linear = MyLinear(3,2)\n",
    "y = linear(x)\n",
    "print(y)"
   ]
  },
  {
   "cell_type": "code",
   "execution_count": 39,
   "id": "dfd13bfb-f332-45d3-a42c-2ce3752fc95d",
   "metadata": {},
   "outputs": [
    {
     "data": {
      "text/plain": [
       "tensor([[0., 0.],\n",
       "        [0., 0.]], device='mps:0')"
      ]
     },
     "execution_count": 39,
     "metadata": {},
     "output_type": "execute_result"
    }
   ],
   "source": [
    "x = torch.FloatTensor(2,2).to('mps')\n",
    "x"
   ]
  },
  {
   "cell_type": "code",
   "execution_count": 41,
   "id": "c39e528a-83ee-43fc-8e80-7829bd797706",
   "metadata": {},
   "outputs": [
    {
     "data": {
      "text/plain": [
       "tensor([[0., 0.],\n",
       "        [0., 0.]], device='mps:0')"
      ]
     },
     "execution_count": 41,
     "metadata": {},
     "output_type": "execute_result"
    }
   ],
   "source": [
    "x = torch.FloatTensor(2,2)\n",
    "x.to('mps')"
   ]
  },
  {
   "cell_type": "code",
   "execution_count": 42,
   "id": "192ba314-b27c-4b4f-bd3b-d80ac56cf9af",
   "metadata": {},
   "outputs": [
    {
     "data": {
      "text/plain": [
       "Linear(in_features=2, out_features=2, bias=True)"
      ]
     },
     "execution_count": 42,
     "metadata": {},
     "output_type": "execute_result"
    }
   ],
   "source": [
    "layer = nn.Linear(2,2)\n",
    "layer.to('mps')"
   ]
  },
  {
   "cell_type": "code",
   "execution_count": 44,
   "id": "675c4475-45fd-4e99-99e2-57a22678994c",
   "metadata": {},
   "outputs": [
    {
     "data": {
      "text/plain": [
       "tensor([[0., 0.],\n",
       "        [0., 0.]])"
      ]
     },
     "execution_count": 44,
     "metadata": {},
     "output_type": "execute_result"
    }
   ],
   "source": [
    "x = torch.FloatTensor(2,2)\n",
    "x"
   ]
  },
  {
   "cell_type": "code",
   "execution_count": 46,
   "id": "4b862209-6988-4313-bade-81f1d9480345",
   "metadata": {},
   "outputs": [
    {
     "data": {
      "text/plain": [
       "tensor([[0., 0.],\n",
       "        [0., 0.]], device='mps:0')"
      ]
     },
     "execution_count": 46,
     "metadata": {},
     "output_type": "execute_result"
    }
   ],
   "source": [
    "x.to('mps')"
   ]
  },
  {
   "cell_type": "code",
   "execution_count": 50,
   "id": "c41cf54b-9179-40d3-92a9-7b0cd2aa657d",
   "metadata": {},
   "outputs": [],
   "source": [
    "cpu_device = torch.device('cpu')\n",
    "# gpu_device = torch.device('cuda:0')\n",
    "# Mac M2\n",
    "gpu_device = torch.device('mps')"
   ]
  },
  {
   "cell_type": "code",
   "execution_count": 54,
   "id": "96e7508a-f953-4a9a-8402-3c5f5db9fd81",
   "metadata": {},
   "outputs": [
    {
     "data": {
      "text/plain": [
       "device(type='mps', index=0)"
      ]
     },
     "execution_count": 54,
     "metadata": {},
     "output_type": "execute_result"
    }
   ],
   "source": [
    "next(layer.parameters()).device"
   ]
  },
  {
   "cell_type": "code",
   "execution_count": null,
   "id": "f8212ef4-9738-46db-8467-0c45608bc31c",
   "metadata": {},
   "outputs": [],
   "source": []
  }
 ],
 "metadata": {
  "kernelspec": {
   "display_name": "Python 3 (ipykernel)",
   "language": "python",
   "name": "python3"
  },
  "language_info": {
   "codemirror_mode": {
    "name": "ipython",
    "version": 3
   },
   "file_extension": ".py",
   "mimetype": "text/x-python",
   "name": "python",
   "nbconvert_exporter": "python",
   "pygments_lexer": "ipython3",
   "version": "3.9.6"
  }
 },
 "nbformat": 4,
 "nbformat_minor": 5
}
