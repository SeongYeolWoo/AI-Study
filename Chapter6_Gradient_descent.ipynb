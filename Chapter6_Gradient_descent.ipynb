{
 "cells": [
  {
   "cell_type": "markdown",
   "id": "b86b3fcf-f9cc-4018-bdcd-e7db0b93b9ce",
   "metadata": {},
   "source": [
    "# 경사하강법"
   ]
  },
  {
   "cell_type": "code",
   "execution_count": 1,
   "id": "c7847955-63ff-4761-8d7d-2a23fc9f2a84",
   "metadata": {},
   "outputs": [],
   "source": [
    "import torch\n",
    "import torch.nn.functional as F"
   ]
  },
  {
   "cell_type": "code",
   "execution_count": 2,
   "id": "75611916-cc60-4488-85b7-139123eda3a2",
   "metadata": {},
   "outputs": [],
   "source": [
    "target = torch.FloatTensor([[.1, .2, .3],\n",
    "                            [.4, .5, .6],\n",
    "                            [.7, .8, .9]])"
   ]
  },
  {
   "cell_type": "code",
   "execution_count": 3,
   "id": "ad9cb6aa-c471-4154-9eea-6a3d7f7b9431",
   "metadata": {},
   "outputs": [],
   "source": [
    "x = torch.rand_like(target)\n",
    "x.requires_grad = True"
   ]
  },
  {
   "cell_type": "code",
   "execution_count": 4,
   "id": "fc728574-a52a-40d3-a3d7-10f2a434a12a",
   "metadata": {},
   "outputs": [
    {
     "name": "stdout",
     "output_type": "stream",
     "text": [
      "tensor(0.0685, grad_fn=<MseLossBackward0>)\n"
     ]
    }
   ],
   "source": [
    "loss = F.mse_loss(x, target)\n",
    "print(loss)"
   ]
  },
  {
   "cell_type": "code",
   "execution_count": 5,
   "id": "0bd7f13e-1fb3-4235-b6ef-e0731b8b42e9",
   "metadata": {},
   "outputs": [
    {
     "name": "stdout",
     "output_type": "stream",
     "text": [
      "1-th Loss: 4.1435e-02\n",
      "tensor([[0.2518, 0.2564, 0.0783],\n",
      "        [0.4889, 0.4280, 0.5024],\n",
      "        [0.2044, 0.8329, 0.7319]], requires_grad=True)\n",
      "2-th Loss: 2.5065e-02\n",
      "tensor([[0.2181, 0.2439, 0.1276],\n",
      "        [0.4691, 0.4440, 0.5241],\n",
      "        [0.3145, 0.8256, 0.7693]], requires_grad=True)\n",
      "3-th Loss: 1.5163e-02\n",
      "tensor([[0.1918, 0.2341, 0.1659],\n",
      "        [0.4538, 0.4564, 0.5410],\n",
      "        [0.4002, 0.8199, 0.7983]], requires_grad=True)\n",
      "4-th Loss: 9.1727e-03\n",
      "tensor([[0.1714, 0.2265, 0.1957],\n",
      "        [0.4418, 0.4661, 0.5541],\n",
      "        [0.4668, 0.8155, 0.8209]], requires_grad=True)\n",
      "5-th Loss: 5.5489e-03\n",
      "tensor([[0.1555, 0.2206, 0.2189],\n",
      "        [0.4325, 0.4736, 0.5643],\n",
      "        [0.5186, 0.8120, 0.8385]], requires_grad=True)\n",
      "6-th Loss: 3.3568e-03\n",
      "tensor([[0.1432, 0.2161, 0.2369],\n",
      "        [0.4253, 0.4795, 0.5722],\n",
      "        [0.5589, 0.8094, 0.8522]], requires_grad=True)\n",
      "7-th Loss: 2.0306e-03\n",
      "tensor([[0.1336, 0.2125, 0.2509],\n",
      "        [0.4197, 0.4841, 0.5784],\n",
      "        [0.5903, 0.8073, 0.8628]], requires_grad=True)\n",
      "8-th Loss: 1.2284e-03\n",
      "tensor([[0.1261, 0.2097, 0.2618],\n",
      "        [0.4153, 0.4876, 0.5832],\n",
      "        [0.6147, 0.8057, 0.8711]], requires_grad=True)\n",
      "9-th Loss: 7.4311e-04\n",
      "tensor([[0.1203, 0.2076, 0.2703],\n",
      "        [0.4119, 0.4904, 0.5869],\n",
      "        [0.6336, 0.8044, 0.8775]], requires_grad=True)\n",
      "10-th Loss: 4.4954e-04\n",
      "tensor([[0.1158, 0.2059, 0.2769],\n",
      "        [0.4093, 0.4925, 0.5898],\n",
      "        [0.6484, 0.8034, 0.8825]], requires_grad=True)\n",
      "11-th Loss: 2.7194e-04\n",
      "tensor([[0.1123, 0.2046, 0.2820],\n",
      "        [0.4072, 0.4942, 0.5921],\n",
      "        [0.6599, 0.8027, 0.8864]], requires_grad=True)\n",
      "12-th Loss: 1.6451e-04\n",
      "tensor([[0.1096, 0.2036, 0.2860],\n",
      "        [0.4056, 0.4955, 0.5939],\n",
      "        [0.6688, 0.8021, 0.8894]], requires_grad=True)\n",
      "13-th Loss: 9.9517e-05\n",
      "tensor([[0.1074, 0.2028, 0.2891],\n",
      "        [0.4044, 0.4965, 0.5952],\n",
      "        [0.6757, 0.8016, 0.8918]], requires_grad=True)\n",
      "14-th Loss: 6.0202e-05\n",
      "tensor([[0.1058, 0.2022, 0.2916],\n",
      "        [0.4034, 0.4973, 0.5963],\n",
      "        [0.6811, 0.8013, 0.8936]], requires_grad=True)\n",
      "15-th Loss: 3.6418e-05\n",
      "tensor([[0.1045, 0.2017, 0.2934],\n",
      "        [0.4026, 0.4979, 0.5971],\n",
      "        [0.6853, 0.8010, 0.8950]], requires_grad=True)\n",
      "16-th Loss: 2.2031e-05\n",
      "tensor([[0.1035, 0.2013, 0.2949],\n",
      "        [0.4020, 0.4983, 0.5978],\n",
      "        [0.6886, 0.8008, 0.8961]], requires_grad=True)\n",
      "17-th Loss: 1.3327e-05\n",
      "tensor([[0.1027, 0.2010, 0.2960],\n",
      "        [0.4016, 0.4987, 0.5983],\n",
      "        [0.6911, 0.8006, 0.8970]], requires_grad=True)\n",
      "18-th Loss: 8.0621e-06\n",
      "tensor([[0.1021, 0.2008, 0.2969],\n",
      "        [0.4012, 0.4990, 0.5986],\n",
      "        [0.6931, 0.8005, 0.8977]], requires_grad=True)\n"
     ]
    }
   ],
   "source": [
    "threshold = 1e-5\n",
    "learning_rate = 1.\n",
    "iter_cnt = 0\n",
    "\n",
    "while loss > threshold:\n",
    "    iter_cnt += 1\n",
    "    loss.backward(retain_graph=True)\n",
    "\n",
    "    x = x - learning_rate*x.grad\n",
    "    x.detach_()\n",
    "    x.requires_grad_(True)\n",
    "\n",
    "    loss = F.mse_loss(x, target)\n",
    "    print('%d-th Loss: %.4e'%(iter_cnt, loss))\n",
    "    print(x)"
   ]
  },
  {
   "cell_type": "code",
   "execution_count": 6,
   "id": "0aa3ca9d-1ee9-4599-973c-6017f275da64",
   "metadata": {},
   "outputs": [],
   "source": [
    "x = torch.FloatTensor([[1,2],\n",
    "                       [3,4]]).requires_grad_(True)"
   ]
  },
  {
   "cell_type": "code",
   "execution_count": 7,
   "id": "84835217-71b7-4619-83cf-9eb668035de2",
   "metadata": {},
   "outputs": [
    {
     "name": "stdout",
     "output_type": "stream",
     "text": [
      "tensor([[3., 4.],\n",
      "        [5., 6.]], grad_fn=<AddBackward0>)\n"
     ]
    }
   ],
   "source": [
    "x1 = x + 2\n",
    "print(x1)"
   ]
  },
  {
   "cell_type": "code",
   "execution_count": 9,
   "id": "16c967bb-ffa1-427f-93a2-db7aeb6a9362",
   "metadata": {},
   "outputs": [
    {
     "name": "stdout",
     "output_type": "stream",
     "text": [
      "tensor([[-1.,  0.],\n",
      "        [ 1.,  2.]], grad_fn=<SubBackward0>)\n"
     ]
    }
   ],
   "source": [
    "x2 = x - 2\n",
    "print(x2)"
   ]
  },
  {
   "cell_type": "code",
   "execution_count": 10,
   "id": "d9d78525-4090-4c40-9d73-6e8b04ac433d",
   "metadata": {},
   "outputs": [
    {
     "name": "stdout",
     "output_type": "stream",
     "text": [
      "tensor([[-3.,  0.],\n",
      "        [ 5., 12.]], grad_fn=<MulBackward0>)\n"
     ]
    }
   ],
   "source": [
    "x3 = x1 * x2\n",
    "print(x3)"
   ]
  },
  {
   "cell_type": "code",
   "execution_count": 11,
   "id": "40563330-9f35-4d90-91e2-275a3c1e8bf1",
   "metadata": {},
   "outputs": [
    {
     "name": "stdout",
     "output_type": "stream",
     "text": [
      "tensor(14., grad_fn=<SumBackward0>)\n"
     ]
    }
   ],
   "source": [
    "y = x3.sum()\n",
    "print(y)"
   ]
  },
  {
   "cell_type": "code",
   "execution_count": 12,
   "id": "7c1e2ab5-2e92-4070-965d-7ba7ac7f3504",
   "metadata": {},
   "outputs": [],
   "source": [
    "y.backward()"
   ]
  },
  {
   "cell_type": "code",
   "execution_count": 13,
   "id": "58d8c0e3-d49f-4dea-9081-35d7d9fcff8a",
   "metadata": {},
   "outputs": [
    {
     "name": "stdout",
     "output_type": "stream",
     "text": [
      "tensor([[2., 4.],\n",
      "        [6., 8.]])\n"
     ]
    }
   ],
   "source": [
    "print(x.grad)"
   ]
  },
  {
   "cell_type": "code",
   "execution_count": 14,
   "id": "586c60f5-61e3-48ae-998e-ff9ebe5ccaf6",
   "metadata": {},
   "outputs": [
    {
     "data": {
      "text/plain": [
       "tensor([[1., 2.],\n",
       "        [3., 4.]], requires_grad=True)"
      ]
     },
     "execution_count": 14,
     "metadata": {},
     "output_type": "execute_result"
    }
   ],
   "source": [
    "x"
   ]
  },
  {
   "cell_type": "code",
   "execution_count": 15,
   "id": "449f3b6d-56ce-4f83-8f4a-3ca25de46b9a",
   "metadata": {},
   "outputs": [
    {
     "data": {
      "text/plain": [
       "tensor([[-3.,  0.],\n",
       "        [ 5., 12.]])"
      ]
     },
     "execution_count": 15,
     "metadata": {},
     "output_type": "execute_result"
    }
   ],
   "source": [
    "x3.detach_()"
   ]
  },
  {
   "cell_type": "code",
   "execution_count": null,
   "id": "0e247d8e-f9fc-4a5c-9830-6f0eb1b784ba",
   "metadata": {},
   "outputs": [],
   "source": []
  }
 ],
 "metadata": {
  "kernelspec": {
   "display_name": "Python 3 (ipykernel)",
   "language": "python",
   "name": "python3"
  },
  "language_info": {
   "codemirror_mode": {
    "name": "ipython",
    "version": 3
   },
   "file_extension": ".py",
   "mimetype": "text/x-python",
   "name": "python",
   "nbconvert_exporter": "python",
   "pygments_lexer": "ipython3",
   "version": "3.9.6"
  }
 },
 "nbformat": 4,
 "nbformat_minor": 5
}
